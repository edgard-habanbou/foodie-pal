{
 "cells": [
  {
   "cell_type": "code",
   "execution_count": null,
   "id": "be00ef90",
   "metadata": {},
   "outputs": [],
   "source": [
    "import pandas as pd\n",
    "from sklearn.model_selection import train_test_split\n",
    "from sklearn.feature_extraction.text import TfidfVectorizer\n",
    "from tensorflow.keras.models import Sequential\n",
    "from tensorflow.keras.layers import Dense, Embedding, LSTM, GlobalMaxPooling1D\n",
    "from tensorflow.keras.optimizers import Adam\n",
    "from sklearn.preprocessing import LabelEncoder"
   ]
  },
  {
   "cell_type": "code",
   "execution_count": 11,
   "id": "6a1e2349",
   "metadata": {},
   "outputs": [],
   "source": [
    "# Load the dataset\n",
    "df = pd.read_csv('./food_recipes_2.csv')\n",
    "\n",
    "X = df['ingredient1','ingredient2','ingredient3','ingredient4','ingredient5','ingredient6','ingredient7','ingredient8','ingredient9','ingredient10']\n",
    "y = df['recipe_title']\n",
    "\n",
    "# Split the data into training and testing sets\n",
    "X_train, X_test, y_train, y_test = train_test_split(X, y, test_size=0.2, random_state=42)\n",
    "\n",
    "#Fill nulls with empty strings\n",
    "X_train = X_train.fillna('')\n",
    "X_test = X_test.fillna('')\n",
    "y_train = X_train.fillna('')\n",
    "y_test = X_test.fillna('')"
   ]
  },
  {
   "cell_type": "code",
   "execution_count": null,
   "id": "5c58ae8c",
   "metadata": {},
   "outputs": [],
   "source": []
  },
  {
   "cell_type": "code",
   "execution_count": 12,
   "id": "585c9d02",
   "metadata": {},
   "outputs": [],
   "source": [
    "# Text vectorization using TF-IDF\n",
    "vectorizer = TfidfVectorizer(max_features=5000)\n",
    "X_train_vec = vectorizer.fit_transform(X_train)\n",
    "X_test_vec = vectorizer.transform(X_test)"
   ]
  },
  {
   "cell_type": "code",
   "execution_count": 13,
   "id": "7cb91842",
   "metadata": {},
   "outputs": [],
   "source": [
    "# Define the model\n",
    "model = Sequential()\n",
    "model.add(Embedding(input_dim=5000, output_dim=64, input_length=X_train_vec.shape[1]))\n",
    "model.add(LSTM(100, return_sequences=True))\n",
    "model.add(GlobalMaxPooling1D())\n",
    "model.add(Dense(50, activation='relu'))\n",
    "model.add(Dense(len(df['recipe_title'].unique()), activation='softmax'))"
   ]
  },
  {
   "cell_type": "code",
   "execution_count": 14,
   "id": "3ddf716e",
   "metadata": {},
   "outputs": [],
   "source": [
    "# Compile the model\n",
    "model.compile(optimizer=Adam(learning_rate=0.001), loss='sparse_categorical_crossentropy', metrics=['accuracy'])"
   ]
  },
  {
   "cell_type": "code",
   "execution_count": 15,
   "id": "d5a3e0a5",
   "metadata": {},
   "outputs": [],
   "source": [
    "# Convert labels to numerical format\n",
    "label_encoder = LabelEncoder()\n",
    "y_train_encoded = label_encoder.fit_transform(y_train)"
   ]
  },
  {
   "cell_type": "code",
   "execution_count": 16,
   "id": "257094fa",
   "metadata": {},
   "outputs": [
    {
     "name": "stdout",
     "output_type": "stream",
     "text": [
      "Epoch 1/5\n",
      "76/76 [==============================] - 160s 2s/step - loss: 8.8267 - accuracy: 4.1195e-04 - val_loss: 8.8463 - val_accuracy: 0.0019\n",
      "Epoch 2/5\n",
      "76/76 [==============================] - 138s 2s/step - loss: 8.7982 - accuracy: 0.0023 - val_loss: 8.9023 - val_accuracy: 0.0019\n",
      "Epoch 3/5\n",
      "76/76 [==============================] - 137s 2s/step - loss: 8.7832 - accuracy: 0.0023 - val_loss: 8.9826 - val_accuracy: 0.0019\n",
      "Epoch 4/5\n",
      "76/76 [==============================] - 138s 2s/step - loss: 8.7600 - accuracy: 0.0023 - val_loss: 9.0801 - val_accuracy: 0.0019\n",
      "Epoch 5/5\n",
      "76/76 [==============================] - 137s 2s/step - loss: 8.7324 - accuracy: 0.0023 - val_loss: 9.4144 - val_accuracy: 0.0019\n"
     ]
    },
    {
     "data": {
      "text/plain": [
       "<keras.src.callbacks.History at 0x1cdc7311910>"
      ]
     },
     "execution_count": 16,
     "metadata": {},
     "output_type": "execute_result"
    }
   ],
   "source": [
    "# Train the model\n",
    "model.fit(X_train_vec.toarray(), y_train_encoded, epochs=5, batch_size=64, validation_split=0.1)"
   ]
  },
  {
   "cell_type": "code",
   "execution_count": 25,
   "id": "8e1da42c",
   "metadata": {},
   "outputs": [],
   "source": [
    "# Evaluate the model on the test set\n",
    "y_test_encoded = label_encoder.fit_transform(y_test)"
   ]
  },
  {
   "cell_type": "code",
   "execution_count": 26,
   "id": "fbee2ae1",
   "metadata": {},
   "outputs": [
    {
     "name": "stdout",
     "output_type": "stream",
     "text": [
      "43/43 [==============================] - 10s 225ms/step - loss: 8.7314 - accuracy: 7.4129e-04\n",
      "Test Loss: 8.7314, Test Accuracy: 0.0007\n"
     ]
    }
   ],
   "source": [
    "loss, accuracy = model.evaluate(X_test_vec.toarray(), y_test_encoded)\n",
    "\n",
    "print(f'Test Loss: {loss:.4f}, Test Accuracy: {accuracy:.4f}')"
   ]
  },
  {
   "cell_type": "code",
   "execution_count": null,
   "id": "2257f832",
   "metadata": {},
   "outputs": [],
   "source": []
  }
 ],
 "metadata": {
  "kernelspec": {
   "display_name": "Python 3 (ipykernel)",
   "language": "python",
   "name": "python3"
  },
  "language_info": {
   "codemirror_mode": {
    "name": "ipython",
    "version": 3
   },
   "file_extension": ".py",
   "mimetype": "text/x-python",
   "name": "python",
   "nbconvert_exporter": "python",
   "pygments_lexer": "ipython3",
   "version": "3.11.5"
  }
 },
 "nbformat": 4,
 "nbformat_minor": 5
}
